{
 "cells": [
  {
   "cell_type": "code",
   "execution_count": 1,
   "metadata": {
    "_cell_guid": "b1076dfc-b9ad-4769-8c92-a6c4dae69d19",
    "_uuid": "8f2839f25d086af736a60e9eeb907d3b93b6e0e5"
   },
   "outputs": [],
   "source": [
    "import pandas as pd, numpy as np, random as rn\n",
    "import matplotlib.pyplot as plt, seaborn as sns"
   ]
  },
  {
   "cell_type": "markdown",
   "metadata": {},
   "source": [
    "## Two Five-Sided Dice\n",
    "#### Problem 1\n",
    "You roll two five-sided dice. The sides of each die are numbered from 1 to 5. The dice are \"fair\" (all sides are equally likely), and the two die rolls are independent."
   ]
  },
  {
   "cell_type": "markdown",
   "metadata": {},
   "source": [
    "Note: ``[[]]*n is not the same as [[] for _ in range(n)]``"
   ]
  },
  {
   "cell_type": "code",
   "execution_count": 2,
   "metadata": {},
   "outputs": [
    {
     "data": {
      "text/html": [
       "<div>\n",
       "<style scoped>\n",
       "    .dataframe tbody tr th:only-of-type {\n",
       "        vertical-align: middle;\n",
       "    }\n",
       "\n",
       "    .dataframe tbody tr th {\n",
       "        vertical-align: top;\n",
       "    }\n",
       "\n",
       "    .dataframe thead th {\n",
       "        text-align: right;\n",
       "    }\n",
       "</style>\n",
       "<table border=\"1\" class=\"dataframe\">\n",
       "  <thead>\n",
       "    <tr style=\"text-align: right;\">\n",
       "      <th></th>\n",
       "      <th>0</th>\n",
       "      <th>1</th>\n",
       "      <th>2</th>\n",
       "      <th>3</th>\n",
       "      <th>4</th>\n",
       "    </tr>\n",
       "  </thead>\n",
       "  <tbody>\n",
       "    <tr>\n",
       "      <th>0</th>\n",
       "      <td>(1, 1)</td>\n",
       "      <td>(1, 2)</td>\n",
       "      <td>(1, 3)</td>\n",
       "      <td>(1, 4)</td>\n",
       "      <td>(1, 5)</td>\n",
       "    </tr>\n",
       "    <tr>\n",
       "      <th>1</th>\n",
       "      <td>(2, 1)</td>\n",
       "      <td>(2, 2)</td>\n",
       "      <td>(2, 3)</td>\n",
       "      <td>(2, 4)</td>\n",
       "      <td>(2, 5)</td>\n",
       "    </tr>\n",
       "    <tr>\n",
       "      <th>2</th>\n",
       "      <td>(3, 1)</td>\n",
       "      <td>(3, 2)</td>\n",
       "      <td>(3, 3)</td>\n",
       "      <td>(3, 4)</td>\n",
       "      <td>(3, 5)</td>\n",
       "    </tr>\n",
       "    <tr>\n",
       "      <th>3</th>\n",
       "      <td>(4, 1)</td>\n",
       "      <td>(4, 2)</td>\n",
       "      <td>(4, 3)</td>\n",
       "      <td>(4, 4)</td>\n",
       "      <td>(4, 5)</td>\n",
       "    </tr>\n",
       "    <tr>\n",
       "      <th>4</th>\n",
       "      <td>(5, 1)</td>\n",
       "      <td>(5, 2)</td>\n",
       "      <td>(5, 3)</td>\n",
       "      <td>(5, 4)</td>\n",
       "      <td>(5, 5)</td>\n",
       "    </tr>\n",
       "  </tbody>\n",
       "</table>\n",
       "</div>"
      ],
      "text/plain": [
       "        0       1       2       3       4\n",
       "0  (1, 1)  (1, 2)  (1, 3)  (1, 4)  (1, 5)\n",
       "1  (2, 1)  (2, 2)  (2, 3)  (2, 4)  (2, 5)\n",
       "2  (3, 1)  (3, 2)  (3, 3)  (3, 4)  (3, 5)\n",
       "3  (4, 1)  (4, 2)  (4, 3)  (4, 4)  (4, 5)\n",
       "4  (5, 1)  (5, 2)  (5, 3)  (5, 4)  (5, 5)"
      ]
     },
     "execution_count": 2,
     "metadata": {},
     "output_type": "execute_result"
    }
   ],
   "source": [
    "n = 5\n",
    "Omega = [[] for _ in range(n)]\n",
    "for i in range(n):\n",
    "    for j in range(n):\n",
    "        Omega[i].append((i+1, j+1))\n",
    "        \n",
    "pd.DataFrame(Omega)"
   ]
  },
  {
   "cell_type": "markdown",
   "metadata": {},
   "source": [
    "Part(a): Event $A$ is \"the total is 10\" (i.e., the sum of the results of the two die rolls is 10).\n",
    "    \n",
    "1. Is event  $A$  independent of the event “at least one of the dice resulted in a 5\"?\n",
    "\n",
    "Set $A=\\{(a,\\,b)\\in\\Omega:\\, a+b=10\\}$, and $B=\\{(a, \\,b)\\in\\Omega:\\,a,b=5\\}$. There is one pair that the sum of two rolls equal to $10$ and there are $9$ pairs that at least one roll is $5$. \n",
    "$$P(A)*P(B)=\\frac{1}{25}*\\frac{9}{25}$$\n",
    "$$P(A\\cap B)=P(A)=\\frac{1}{25}$$\n",
    "$$P(A)P(B)\\neq P(A\\cap B)$$\n",
    "Event $A$ is not independent of event $B$.\n",
    "\n",
    "2. Is event  $A$  independent of the event “at least one of the dice resulted in a 1\"?\n",
    "\n",
    "Set $C=\\{(a,\\,b)\\in\\Omega:\\,a,b = 1\\}$ and it has $9$ pairs but none of them has a total equals to $10$. \n",
    "$$P(A)*P(B)=\\frac{1}{25}*\\frac{9}{25}$$\n",
    "$$P(A\\cap B)=P(\\emptyset)=0$$\n",
    "$$P(A)P(B)\\neq P(A\\cap B)$$\n",
    "Event $A$ is not independent of event $B$."
   ]
  },
  {
   "cell_type": "markdown",
   "metadata": {},
   "source": [
    "Part (b): Event  $B$  is “the total is $8$.\"\n",
    "\n",
    "Set $D=\\{(a, b)\\in\\Omega:\\,a+b=8\\}$, and it has $3$ pairs.\n",
    "\n",
    "1. Is event  $B$  independent of getting “doubles\" (i.e., both dice resulting in the same number)?\n",
    "\n",
    "Set event $E=\\{(a, b)\\in\\Omega:a=b\\}$. According the table above, $|E|=5$. Event $D$ and event $E$ has one pair in common.\n",
    "\n",
    "$$P(A)*P(B)=\\frac{3}{25}*\\frac{5}{25}$$\n",
    "$$P(A\\cap B)=\\frac{1}{25}$$\n",
    "$$P(A)P(B)\\neq P(A\\cap B)$$\n",
    "Event $A$ is not independent of event $B$.\n",
    "\n",
    "2. Given that the total was $8$, what is the probability that at least one of the dice resulted in a $3$?\n",
    "\n",
    "Set $F=\\{(a,b)\\in\\Omega:a,b=3\\}$, and $|F|=9$. From the above table, we see that $D\\cap F=\\{(3,5), (5,3)\\}$\n",
    "\n",
    "$$P(F|D)=\\frac{P(F\\cap D)}{P(D)}=\\frac{\\frac{2}{25}}{\\frac{3}{25}}=\\frac{2}{3}$$"
   ]
  },
  {
   "cell_type": "markdown",
   "metadata": {},
   "source": [
    "## A Reliability Problem\n",
    "#### Problem 2\n",
    "\n",
    "Consider the communication network shown in the figure below and suppose that each link can **fail with probability  p** . Assume that failures of different links are independent.\n",
    "![t](https://prod-edxapp.edx-cdn.org/assets/courseware/v1/6df2fe216870c8689bcedc7d54f2919c/asset-v1:MITx+6.431x+2T2019+type@asset+block/images_2_02new.jpg)"
   ]
  },
  {
   "cell_type": "markdown",
   "metadata": {},
   "source": [
    "1. Assume that  $p=1/3$ . Find the probability that there exists a path from  $A$  to  $B$  along which no link has failed. \n",
    "\n",
    "Set event $C$ as link 1 + link 2 connects or link3 + link 4 connects while link 5 is operational.\n",
    "\n",
    "$$\\begin{aligned}\n",
    "P(E)&=P(\\text{link 1 + link 2 connects or link3 + link 4 connects})P(\\text{link 5 is operational})\\\\\n",
    "&=(1-P(\\text{both link 1 + link 2 and link3 + link 4 fail}))P(\\text{link 5 is operational})\\\\\n",
    "&=\\{1-[1-(1-p)^2]^2\\}(1-p)\n",
    "\\end{aligned}$$\n",
    "\n",
    "2. Given that exactly one link in the network has failed, find the probability that there exists a path from  $A$  to  $B$  along which no link has failed. \n",
    "\n",
    "Since all links are equally likely to fail, the probability of exactly one failed link is $1/5$. If link 5 fails, there is no path from $A$ to $B$. We have $4$ possible outcomes that create a path connects from $A$ to $B$ with no failures."
   ]
  },
  {
   "cell_type": "markdown",
   "metadata": {},
   "source": [
    "## Oscar's Lost Dog in the Forest\n",
    "#### Problem 3\n",
    "Oscar has lost his dog in either forest $A$ (with probability  $0.4$ ) or in forest $B$ (with probability  $0.6$ ).\n",
    "\n",
    "If the dog is in forest A and Oscar spends a day searching for it in forest $A$, the conditional probability that he will find the dog that day is  $0.25$ . Similarly, if the dog is in forest $B$ and Oscar spends a day looking for it there, he will find the dog that day with probability  $0.15$ .\n",
    "\n",
    "The dog cannot go from one forest to the other. Oscar can search only in the daytime, and he can travel from one forest to the other only overnight.\n",
    "\n",
    "The dog is alive during day 0, when Oscar loses it, and during day 1, when Oscar starts searching. It is alive during day 2 with probability  $2/3$ . In general, for  $n\\geq1$ , if the dog is alive during day  $n−1$ , then the probability it is alive during day  $n$  is  $2/(n+1)$ . The dog can only die overnight. Oscar stops searching as soon as he finds his dog, either alive or dead."
   ]
  },
  {
   "cell_type": "markdown",
   "metadata": {},
   "source": [
    "Set\n",
    "\n",
    "$S_A=\\text{event that Oscar searches for his dog in forest}\\,\\,A$\t \t \n",
    "$S_B=\\text{event that Oscar searches for his dog in forest}\\,\\,B$\t \t \n",
    "$A=\\text{event that his dog is lost in forest}\\,\\,A$\t \t \n",
    "$B=\\text{event that his dog is lost in forest}\\,\\,B$\t \t \n",
    "$F_i=\\text{event that Oscar finds his dog on day}\\,\\,i$\t \t \n",
    "$L_i=\\text{event that his dog is alive on day}\\,\\,i$"
   ]
  },
  {
   "cell_type": "markdown",
   "metadata": {},
   "source": [
    "a) In which forest should Oscar look on the first day of the search to maximize the probability he finds his dog that day?"
   ]
  },
  {
   "cell_type": "code",
   "execution_count": 3,
   "metadata": {},
   "outputs": [
    {
     "name": "stdout",
     "output_type": "stream",
     "text": [
      "0.4x0.25=0.1\n",
      "0.6x0.15=0.09\n"
     ]
    }
   ],
   "source": [
    "def first_day_search(forest):\n",
    "    if forest == \"A\":\n",
    "        return \"0.4x0.25=\"+str(0.4*0.25)\n",
    "    elif forest == \"B\":\n",
    "        return \"0.6x0.15=\"+str(0.6*0.15)\n",
    "        \n",
    "print(first_day_search(\"A\"))\n",
    "print(first_day_search(\"B\"))"
   ]
  },
  {
   "cell_type": "markdown",
   "metadata": {},
   "source": [
    "b) Oscar looked in forest A on the first day but didn't find his dog. What is the probability that the dog is in forest A?\n",
    "\n",
    "Revise the problem as: Oscar's dog in forest $A$ but he didn't find it in day one.\n",
    "\n",
    "Set $A$ as the dog in forest $A$. Since Oscar search his dog in forest $A$, the probability that he doesn't find his dog in forest $B$ in day one is $(0.6*1)$.\n",
    "\n",
    "$P(\\text{Oscar didn't find his dog in day one}) = (0.4)*(0.75)+0.6*1$\n",
    "\n",
    "$$P(A\\,|\\,S_A\\cap F_1^c)=\\frac{P(A\\cap S_A\\cap F_1^c)}{P(S_A\\cap F_1^c)}=\\frac{(0.4)*(0.75)}{(0.4)*(0.75)+0.6*1}$$"
   ]
  },
  {
   "cell_type": "markdown",
   "metadata": {},
   "source": [
    "c) Oscar flips a fair coin to determine where to look on the first day and finds the dog on the first day. What is the probability that he looked in forest A?\n",
    "\n",
    "$$P(A|F_1) = \\frac{P(A\\cap F_1)}{P(F_1)}=\\frac{0.5*0.4*0.25}{0.5*0.4*0.25+0.5*0.6*0.15}$$"
   ]
  },
  {
   "cell_type": "markdown",
   "metadata": {},
   "source": [
    "d) Oscar decides to look in forest A for the first two days. What is the probability that he finds his dog alive for the first time on the second day?\n",
    "\n",
    "$$P(A\\cap F_c^1\\cap L_2\\cap F_2∣S_A)=(0.4)(0.75)(2/3)(0.25)$$\n",
    "\n",
    "e) Oscar decides to look in forest A for the first two days. Given that he did not find his dog on the first day, find the probability that he does not find his dog dead on the second day.\n",
    "\n",
    "$$\\begin{aligned}\n",
    "&P(\\text{Oscar does not find his dog dead on day 2 | $F_1^c\\cap S_A$})\\\\\n",
    "=&1 - P(\\text{Oscar does find his dog dead on day 2 | $F_1^c\\cap S_A$})\\\\\n",
    "=&1 - \\frac{(0.4)(0.75)(1/3)(0.25)}{0.4*0.75+0.6*1}\n",
    "\\end{aligned}$$\n",
    "\n",
    "f) Oscar finally finds his dog on the fourth day of the search. He looked in forest A for the first 3 days and in forest B on the fourth day. Given this information, what is the probability that he found his dog alive?"
   ]
  },
  {
   "cell_type": "code",
   "execution_count": 4,
   "metadata": {},
   "outputs": [
    {
     "name": "stdout",
     "output_type": "stream",
     "text": [
      "0.13333333333333333\n"
     ]
    }
   ],
   "source": [
    "alive = 1\n",
    "for day in range(2, 5):\n",
    "    alive *= 2/(day+1)\n",
    "    \n",
    "print(alive)"
   ]
  },
  {
   "cell_type": "markdown",
   "metadata": {},
   "source": [
    "## Serap and Her Umbrella\n",
    "#### Problem 4\n",
    "Before leaving for work, Serap checks the weather report in order to decide whether to carry an umbrella. On any given day, with probability  $0.2$  the forecast is “rain\" and with probability  $0.8$  the forecast is “no rain\". If the forecast is “rain\", the probability of actually having rain on that day is  $0.8$ . On the other hand, if the forecast is “no rain\", the probability of actually raining is  $0.1$ ."
   ]
  },
  {
   "cell_type": "markdown",
   "metadata": {},
   "source": [
    "1. One day, Serap missed the forecast and it rained. What is the probability that the forecast was “rain\"?\n",
    "\n",
    "Let $A$ be the event that forecast was rain and $B$ be the event that it rained.\n",
    "$$P(A|B)=\\frac{P(A\\cap B)}{P(B)}=\\frac{P(A)P(B|A)}{P(B)}=\\frac{0.2*0.8}{0.2*0.8+0.8*0.1}$$\n",
    "\n",
    "2. Serap misses the morning forecast with probability  $0.2$  on any day in the year. If she misses the forecast, Serap will flip a fair coin to decide whether to carry an umbrella. (We assume that the result of the coin flip is independent from the forecast and the weather.) On any day she sees the forecast, if it says “rain\" she will always carry an umbrella, and if it says “no rain\" she will not carry an umbrella. Let  $U$  be the event that “Serap is carrying an umbrella\", and let  $N$  be the event that the forecast is “no rain\". Are events  $U$  and  $N$ independent?\n",
    "\n",
    "$$\\begin{aligned}\n",
    "P(U)=&0.2*0.5+0.8*1*0.2=0.26\\\\\n",
    "P(N)=&0.8\\\\\n",
    "P(U\\cap N)=&P(P\\cap N\\,|\\,\\text{Missed Forecast}P(\\text{Missed Forecast})) + P(P\\cap N\\,|\\,\\text{Saw Forecast}P(\\text{Saw Forecast}))\\\\\n",
    "&=0.5*0.8*0.2+0\n",
    "\\end{aligned}$$\n",
    "$P(U\\cap N)\\neq P(U)P(N)$\n",
    "\n",
    "3. Serap is carrying an umbrella and it is not raining. What is the probability that she saw the forecast?\n",
    "\n",
    "$$\\begin{aligned}&P(\\text{Saw Forecast}\\,|\\,\\text{Bring Umberlla and no rained})\\\\\n",
    "=&\\frac{0.8*0.2*1*0.2}{0.8*0.2*1*0.2+0.2*0.5*0.75}\\\\\n",
    "=&\\frac{8}{27}\n",
    "\\end{aligned}$$\n"
   ]
  },
  {
   "cell_type": "code",
   "execution_count": null,
   "metadata": {},
   "outputs": [],
   "source": []
  }
 ],
 "metadata": {
  "kernelspec": {
   "display_name": "Python 3",
   "language": "python",
   "name": "python3"
  },
  "language_info": {
   "codemirror_mode": {
    "name": "ipython",
    "version": 3
   },
   "file_extension": ".py",
   "mimetype": "text/x-python",
   "name": "python",
   "nbconvert_exporter": "python",
   "pygments_lexer": "ipython3",
   "version": "3.6.6"
  }
 },
 "nbformat": 4,
 "nbformat_minor": 1
}
