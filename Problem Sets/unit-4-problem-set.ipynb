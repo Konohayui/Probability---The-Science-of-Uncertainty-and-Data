{
 "cells": [
  {
   "cell_type": "code",
   "execution_count": 1,
   "metadata": {
    "_cell_guid": "b1076dfc-b9ad-4769-8c92-a6c4dae69d19",
    "_uuid": "8f2839f25d086af736a60e9eeb907d3b93b6e0e5"
   },
   "outputs": [],
   "source": [
    "import pandas as pd, numpy as np, matplotlib.pyplot as plt, random as rn\n",
    "import seaborn as sns, math"
   ]
  },
  {
   "cell_type": "markdown",
   "metadata": {},
   "source": [
    "## Tosses of a Biased Coin\n",
    "#### Problem 1\n",
    "Consider $10$ independent tosses of a biased coin with the probability of Heads at each toss equal to $p$, where $0<p<1$.\n",
    "\n",
    "1. Let $A$ be the event that there are $6$ Heads in the first $8$ tosses. Let $B$ be the event that the $9$th toss results in Heads. Find $P(B\\,|\\,A)$.\n",
    "\n",
    "Since each toss is independent, results from event $A$ don't effect event $B$. We have \n",
    "$$P(B\\,|\\,A)=\\frac{P(B\\cap A)}{P(A)}=\\frac{P(B)P(A)}{P(A)}=P(B)=p$$\n",
    "\n",
    "2. Find the probability that there are $3$ Heads in the first $4$ tosses and $2$ Heads in the last $3$ tosses.\n",
    "\n",
    "Set $A$ be the first case and $B$ be the second case, then \n",
    "$$P(A\\cap B)=P(A)P(B)={4\\choose 3}\\left(1-p\\right)p^3\\times{3\\choose 2}\\left(1-p\\right)p^2=12\\left(1-p\\right)^2p^5$$\n",
    "\n",
    "3. Given that there were $4$ Heads in the first $7$ tosses, find the probability that the $2^{nd}$ Heads occurred at the $4^{th}$ toss.\n",
    "\n",
    "Let $A$ be the event $4$ Heads in the first $7$ tosses, and $B$ be the event $4^{th}$ toss is the second Head.\n",
    "\n",
    "$$P(B\\cap A)=\\frac{P(A\\cap B)}{P(A)}=\\frac{{3\\choose 1}\\left(1-p\\right)^2\\times p\\times p\\times{3\\choose 2}\\left(1-p\\right)^1\\times p}{{7\\choose 4}\\left(1-p\\right)^3\\times p^4}=\\frac{{3\\choose 1}\\times{3\\choose 2}}{{7\\choose 4}}=\\frac{9}{35}$$\n",
    "\n",
    "4. We are interested in calculating the probability that there are $5$ Heads in the first $6$ tosses and $3$ Heads in the last $5$ tosses.\n",
    "\n",
    "Set $A$ be the first event and $B$ be the second event. These two events are not independent as the sixth toss is in both events and it either a Head or a Tail.\n",
    "\n",
    "$$\\begin{aligned}\n",
    "P(A\\cap B)&=P(A\\cap B\\,|\\,\\text{the sixth toss is a Head}) + P(A\\cap B\\,|\\,\\text{the sixth toss is a Tail})\\\\\n",
    "&={5\\choose 4}\\times(1-p)p^4\\times p\\times{4\\choose 2}\\times(1-p)^2p^2+{5\\choose 5}\\times p^5\\times (1-p)\\times{4\\choose 3}\\times(1-p)p^3\\\\\n",
    "&=30p^7(1-p)^3+4p^8(1-p)^2\n",
    "\\end{aligned}$$"
   ]
  },
  {
   "cell_type": "code",
   "execution_count": null,
   "metadata": {
    "_cell_guid": "79c7e3d0-c299-4dcb-8224-4455121ee9b0",
    "_uuid": "d629ff2d2480ee46fbb7e2d37f6b5fab8052498a"
   },
   "outputs": [],
   "source": []
  },
  {
   "cell_type": "markdown",
   "metadata": {},
   "source": [
    "## Three-sided Dice\n",
    "#### Problem 2\n",
    "We have two fair three-sided dice, indexed by  $i=1,2$ . Each die has sides labelled  $1$ ,  $2$ , and  $3$ . We roll the two dice independently, one roll for each die. For  $i=1,2$ , let the random variable  $X_i$  represent the result of the  $i$th die, so that  $X_i$  is uniformly distributed over the set  $\\{1,2,3\\}$ . Define  $X=X_2−X_1$ ."
   ]
  },
  {
   "cell_type": "code",
   "execution_count": 2,
   "metadata": {},
   "outputs": [
    {
     "data": {
      "text/html": [
       "<div>\n",
       "<style scoped>\n",
       "    .dataframe tbody tr th:only-of-type {\n",
       "        vertical-align: middle;\n",
       "    }\n",
       "\n",
       "    .dataframe tbody tr th {\n",
       "        vertical-align: top;\n",
       "    }\n",
       "\n",
       "    .dataframe thead th {\n",
       "        text-align: right;\n",
       "    }\n",
       "</style>\n",
       "<table border=\"1\" class=\"dataframe\">\n",
       "  <thead>\n",
       "    <tr style=\"text-align: right;\">\n",
       "      <th></th>\n",
       "      <th>0</th>\n",
       "      <th>1</th>\n",
       "      <th>2</th>\n",
       "    </tr>\n",
       "  </thead>\n",
       "  <tbody>\n",
       "    <tr>\n",
       "      <th>0</th>\n",
       "      <td>11</td>\n",
       "      <td>12</td>\n",
       "      <td>13</td>\n",
       "    </tr>\n",
       "    <tr>\n",
       "      <th>1</th>\n",
       "      <td>21</td>\n",
       "      <td>22</td>\n",
       "      <td>23</td>\n",
       "    </tr>\n",
       "    <tr>\n",
       "      <th>2</th>\n",
       "      <td>31</td>\n",
       "      <td>32</td>\n",
       "      <td>33</td>\n",
       "    </tr>\n",
       "  </tbody>\n",
       "</table>\n",
       "</div>"
      ],
      "text/plain": [
       "    0   1   2\n",
       "0  11  12  13\n",
       "1  21  22  23\n",
       "2  31  32  33"
      ]
     },
     "execution_count": 2,
     "metadata": {},
     "output_type": "execute_result"
    }
   ],
   "source": [
    "faces = [\"1\", \"2\", \"3\"]\n",
    "Omega = [\"\"]\n",
    "for _ in range(2):\n",
    "    Omega = [o+f for o in Omega for f in faces]\n",
    "    \n",
    "pd.DataFrame(np.array(Omega).reshape(3, 3))"
   ]
  },
  {
   "cell_type": "code",
   "execution_count": 3,
   "metadata": {},
   "outputs": [
    {
     "data": {
      "text/html": [
       "<div>\n",
       "<style scoped>\n",
       "    .dataframe tbody tr th:only-of-type {\n",
       "        vertical-align: middle;\n",
       "    }\n",
       "\n",
       "    .dataframe tbody tr th {\n",
       "        vertical-align: top;\n",
       "    }\n",
       "\n",
       "    .dataframe thead th {\n",
       "        text-align: right;\n",
       "    }\n",
       "</style>\n",
       "<table border=\"1\" class=\"dataframe\">\n",
       "  <thead>\n",
       "    <tr style=\"text-align: right;\">\n",
       "      <th></th>\n",
       "      <th>0</th>\n",
       "      <th>1</th>\n",
       "      <th>2</th>\n",
       "    </tr>\n",
       "  </thead>\n",
       "  <tbody>\n",
       "    <tr>\n",
       "      <th>0</th>\n",
       "      <td>0</td>\n",
       "      <td>1</td>\n",
       "      <td>2</td>\n",
       "    </tr>\n",
       "    <tr>\n",
       "      <th>1</th>\n",
       "      <td>-1</td>\n",
       "      <td>0</td>\n",
       "      <td>1</td>\n",
       "    </tr>\n",
       "    <tr>\n",
       "      <th>2</th>\n",
       "      <td>-2</td>\n",
       "      <td>-1</td>\n",
       "      <td>0</td>\n",
       "    </tr>\n",
       "  </tbody>\n",
       "</table>\n",
       "</div>"
      ],
      "text/plain": [
       "   0  1  2\n",
       "0  0  1  2\n",
       "1 -1  0  1\n",
       "2 -2 -1  0"
      ]
     },
     "execution_count": 3,
     "metadata": {},
     "output_type": "execute_result"
    }
   ],
   "source": [
    "Omega2 = []\n",
    "for i in range(1, 4):\n",
    "    for j in range(1, 4):\n",
    "        Omega2.append(j-i)\n",
    "        \n",
    "pd.DataFrame(np.array(Omega2).reshape(3, 3))"
   ]
  },
  {
   "cell_type": "markdown",
   "metadata": {},
   "source": [
    "1. Calculate the numerical values of following probabilities, as well as the expected value and variance of  $X$:\n",
    "    1. $P(X=0)=\\frac{1}{3}$\n",
    "    2. $P(X=1)=P(X=-1)=\\frac{2}{9}$\n",
    "    3. $P(X=-2)=P(X=2)=\\frac{1}{9}$\n",
    "    4. $P(X=3)=0$\n",
    "    5. $E[X]=\\sum_{x=-2}^{2}xp_X(x)=(-2)\\cdot \\left(\\frac{1}{9}\\right)+(-1)\\cdot\\left(\\frac{2}{9}\\right)+(0)\\cdot\\left(\\frac{1}{3}\\right)+(1)\\cdot\\left(\\frac{1}{9}\\right)+(2)\\cdot\\left(\\frac{1}{9}\\right)=0$\n",
    "    6. $Var(X)=E[(X-E[X])^2]=E[X^2]=(0)\\cdot\\left(\\frac{1}{3}\\right)+2((1)\\cdot\\left(\\frac{1}{9}\\right)+(4)\\cdot\\left(\\frac{1}{9}\\right))=\\frac{4}{3}$\n",
    "    \n",
    "    \n",
    "|   |   |   |\n",
    "|---|---|---|\n",
    "| 0 | 1 | 4 |\n",
    "| 1 | 0 | 1 |\n",
    "| 4 | 1 | 0 |\n",
    "2. Let  $Y=X^2$ . Calculate the following probabilities\n",
    "    1. $P(Y=0)=\\frac{1}{3}$\n",
    "    2. $P(Y=1)=\\frac{4}{9}$\n",
    "    3. $P(Y=2)=0$"
   ]
  },
  {
   "cell_type": "code",
   "execution_count": null,
   "metadata": {},
   "outputs": [],
   "source": []
  },
  {
   "cell_type": "markdown",
   "metadata": {},
   "source": [
    "## PMF, Expectation, and Variance\n",
    "#### Problem 3\n",
    "The random variables $X$ and $Y$ have joint PMF\n",
    "$$p_{x, y}(x, y)=\n",
    "\\begin{cases}\n",
    "c\\cdot(x+y)^2,&\\,\\,\\text{if $x\\in\\{1,2,4\\}$ and $y\\in\\{1,3\\}$},\\\\ \n",
    "0,&\\,\\,\\text{otherwise.}\n",
    "\\end{cases}$$\n",
    "\n"
   ]
  },
  {
   "cell_type": "markdown",
   "metadata": {},
   "source": [
    "1. Find the value of the constant  $c$ ."
   ]
  },
  {
   "cell_type": "code",
   "execution_count": 4,
   "metadata": {},
   "outputs": [
    {
     "name": "stdout",
     "output_type": "stream",
     "text": [
      "c = 1/128\n"
     ]
    }
   ],
   "source": [
    "total = 0\n",
    "for x in [1, 2, 4]:\n",
    "    for y in [1, 3]:\n",
    "        total += (x + y)**2\n",
    "        \n",
    "print(\"c = 1/\"+str(total))"
   ]
  },
  {
   "cell_type": "markdown",
   "metadata": {},
   "source": [
    "2. Find $P(Y<X)$\n",
    "\n",
    "Set $A$ be the event $Y<X$, we have $(2,1), (4,1), (4,3)$. So\n",
    "$$P(A)=\\frac{3^2+5^2+7^2}{128}=\\frac{83}{128}$$\n",
    "\n",
    "3. Find $P(Y=X)$\n",
    "\n",
    "There is only one case that $y=x$, \n",
    "$$P(Y=X)=\\frac{1}{128}$$\n",
    "\n",
    "4. Find the following probabilities.\n",
    "    1. $P(X=1)=\\sum_{y\\in\\{1,3\\}}p_{x=1, y}(1, y)=\\frac{20}{128}$\n",
    "    2. $P(X=2)=\\sum_{y\\in\\{1,3\\}}p_{x=2, y}(2, y)=\\frac{34}{128}$\n",
    "    3. $P(X=3)=\\sum_{y\\in\\{1,3\\}}p_{x=3, y}(3, y)=\\frac{0}{128}$\n",
    "    4. $P(X=4)=\\sum_{y\\in\\{1,3\\}}p_{x=4, y}(4, y)=\\frac{74}{128}$\n",
    "    \n",
    "5. Find the expectations $E[X]$ and $E[XY]$\n",
    "$$E[X]=\\sum_{x\\in\\{1,2,4\\}}\\sum_{y\\in\\{1,2\\}}xp_{x,y}(x, y)=\\sum_{x\\in\\{1,2,4\\}}xp_X(x)=3$$\n",
    "$$E[XY]=\\sum_{x\\in\\{1,2,4\\}}\\sum_{y\\in\\{1,2\\}}xyp_{x,y}(x, y)=\\frac{227}{32}$$\n",
    "\n",
    "6. Find the variance of $X$\n",
    "\n",
    "$$Var(X)=E[(X-E[X])^2]=\\left(1-3\\right)^2\\left(\\frac{20}{128}\\right)+\\left(2-3\\right)^2\\left(\\frac{34}{128}\\right)+\\left(4-3\\right)^2\\left(\\frac{74}{128}\\right)=\\frac{47}{32}$$"
   ]
  },
  {
   "cell_type": "code",
   "execution_count": null,
   "metadata": {},
   "outputs": [],
   "source": []
  },
  {
   "cell_type": "markdown",
   "metadata": {},
   "source": [
    "## Joint PMF\n",
    "#### Problem 4\n",
    "The joint PMF,  $p_{X,Y}(x,y)$ , of the random variables  $X$  and  $Y$  is given by the following table:\n",
    "\n",
    "|      |    |   |    |    |\n",
    "|------|----|---|---|-----|\n",
    "| y=1  | 4c | 0 | 2c | 8c |\n",
    "| y=0  | 3c | 2c| 0  | 2c |\n",
    "| y=-1 | 2c | 0 | c  | 4c |\n",
    "|      | x=-2| x = -1| x = 0 | x =1|\n",
    "|      |     |       |       |     | |\n",
    "\n",
    "1. Find the value of the constant $c$.\n",
    "\n",
    "$$\\begin{aligned}\n",
    "1&=\\sum_{x=-2}^{1}\\sum_{y=-1}^{1}p_{X, Y}(x,y)\\\\\n",
    "&=2c+3c+4c+2c+c+2c+4c+2c+8c\\\\\n",
    "&=28c\n",
    "\\end{aligned}$$\n",
    "Thus, $c=1/28$.\n",
    "\n",
    "2. Find $p_X(1)$.\n",
    "\n",
    "$$p_X(1)=\\sum_{y=-1}^{1}p_{X, Y}(1, y)=\\frac{1}{2}$$\n",
    "\n",
    "3. Consider the random variable $Z=X^2Y^3$, Find $E[Z\\,|\\,Y=-1]$\n",
    "\n",
    "$$\\begin{aligned}\n",
    "E[Z\\,|\\,Y=-1]&=E[X^2Y^3\\,|\\,Y=-1]\\\\\n",
    "&=E[X^2(-1)^3\\,|\\,Y=-1]\\\\\n",
    "&=-E[X^2\\,|\\,Y=-1]\\\\\n",
    "&=-\\left(\\sum_{x=-2}^{1}x^2p_{X\\,|\\,Y}(x\\,|\\,-1)\\right)\n",
    "\\end{aligned}$$\n",
    "\n",
    "In order to calculate the conditional expectation, we need to conditional PMF of $X$ given $Y=-1$:\n",
    "$$p_{X\\,|\\,Y}(x, -1)=\\frac{p_{X, Y}(x, -1)}{p_Y(-1)}\n",
    "=\\begin{cases}\n",
    "\\frac{2c}{7c},&\\text{if $x=-2$,}\\\\\n",
    "\\frac{c}{7c},&\\text{if $x=0$,}\\\\\n",
    "\\frac{4c}{7c},&\\text{if $x=1$,}\\\\\n",
    "0,&\\text{otherwise}\\\\\n",
    "\\end{cases}$$\n",
    "\n",
    "Therefore,\n",
    "$$\\begin{aligned}\n",
    "E[Z\\,|\\,Y=-1]&=-\\left(\\sum_{x=-2}^{1}x^2p_{X\\,|\\,Y}(x\\,|\\,-1)\\right)\\\\\n",
    "&=-\\frac{12}{7}\n",
    "\\end{aligned}$$\n",
    "\n",
    "4. Conditioned on the event that $Y\\neq 0$, are $X$ and $Y$ independent?\n",
    "\n",
    "Yes. Given $Y\\neq 0$, the conditional distribution of $Y$ given $X=x$ is the same for all $x\\in\\{-2,-1,0,1\\}$, $P(Y=y\\,|\\,X=x, Y\\neq 0)=P(Y=y\\,|\\,Y\\neq 0)$, for all $x\\in\\{-2,-1,0,1\\}$.\n",
    "\n",
    "For example,\n",
    "$$\\begin{aligned}\n",
    "P(Y=1\\,|\\,X=−2,Y\\neq 0)& = P(Y=1\\,∣\\,X=0,Y\\neq 0)\\\\ \t \t \n",
    "&=P(Y=1∣X=1,Y\\neq 0)\\\\\t \t \n",
    "&=P(Y=1∣Y\\neq 0)=2/3\n",
    "\\end{aligned}$$\n",
    "\n",
    "5. Find the conditional variance of $Y$ given that  $X=0$.\n",
    "\n",
    "The PMF of $Y$ given $X=0$ is\n",
    "$$p_{Y\\,|\\,X}(y\\,|\\,0)=\\frac{p_{X,Y}(0,y)}{p_X(0)}=\n",
    "\\begin{cases}\n",
    "\\frac{c}{3c},&\\,\\text{if $y=-1$,}\\\\\n",
    "\\frac{2c}{3c},&\\,\\text{if $y=1$,}\\\\\n",
    "0,&\\text{otherwise}\n",
    "\\end{cases}$$\n",
    "\n",
    "The expectation of $E[Y\\,|\\,X=0]$ is \n",
    "$$E[Y\\,|\\,X=0]=\\sum_{y=-1}^{1}yp_{Y\\,|\\,X}p(y\\,|\\,0)=\\frac{1}{3}$$\n",
    "\n",
    "The conditional variance is \n",
    "$$\\begin{aligned}\n",
    "Var(Y\\,|\\,X=0)&=E[(Y-E[Y\\,|\\,X=0])^2\\,|\\,X=0]\\\\\n",
    "&=\\sum_{y=-1}^{1}\\left(y-\\frac{1}{3}\\right)^2p_{Y\\,|\\,X}(y\\,|\\,0)\\\\\n",
    "&=\\frac{8}{9}\n",
    "\\end{aligned}$$"
   ]
  },
  {
   "cell_type": "code",
   "execution_count": null,
   "metadata": {},
   "outputs": [],
   "source": []
  },
  {
   "cell_type": "markdown",
   "metadata": {},
   "source": [
    "## Indicator Variables\n",
    "#### Problem 5\n",
    "Consider a sequence of  $n+1$  independent tosses of a biased coin, at times  $k=0,1,2,\\dots,n$ . On each toss, the probability of Heads is  $p$ , and the probability of Tails is  $1−p$ .\n",
    "\n",
    "A reward of one unit is given at time  $k$ , for  $k\\in\\{1,2,\\dots,n\\}$ , if the toss at time  $k$  resulted in Tails and the toss at time  $k−1$  resulted in Heads. Otherwise, no reward is given at time  $k$ .\n",
    "\n",
    "Let  $R$  be the sum of the rewards collected at times  $1,2,\\dots,n$ . Find $E[R]$ and $Var(R)$\n"
   ]
  },
  {
   "cell_type": "code",
   "execution_count": 5,
   "metadata": {},
   "outputs": [],
   "source": [
    "def n_tosses(n, p):\n",
    "    outcomes = []\n",
    "    for t in range(n):\n",
    "        toss = rn.uniform(0, 1)\n",
    "        if toss > p:\n",
    "            outcomes.append(\"H\")\n",
    "        else:\n",
    "            outcomes.append(\"T\")\n",
    "            \n",
    "    rewards = 0\n",
    "    for i in range(1, n):\n",
    "        if outcomes[i] == \"T\" and outcomes[i-1] == \"H\":\n",
    "            rewards += 1\n",
    "            \n",
    "    return rewards"
   ]
  },
  {
   "cell_type": "code",
   "execution_count": 6,
   "metadata": {},
   "outputs": [],
   "source": [
    "n = 100 # 100 tosses\n",
    "p = rn.uniform(0, 1) # get probability p between 0, 1\n",
    "rewards = pd.DataFrame([n_tosses(n, p) for _ in range(1000)]) # simulate the experience 1000 times"
   ]
  },
  {
   "cell_type": "code",
   "execution_count": 7,
   "metadata": {},
   "outputs": [
    {
     "data": {
      "image/png": "[encoded data removed]",
      "text/plain": [
       "<Figure size 720x576 with 1 Axes>"
      ]
     },
     "metadata": {
      "needs_background": "light"
     },
     "output_type": "display_data"
    }
   ],
   "source": [
    "rewards_counts = rewards[0].value_counts()\n",
    "fig = plt.figure(figsize = (10, 8))\n",
    "sns.barplot(rewards_counts.index, rewards_counts.values)\n",
    "plt.title(\"Probability = \"+str(p), fontsize = 15)\n",
    "plt.show()"
   ]
  },
  {
   "cell_type": "markdown",
   "metadata": {},
   "source": [
    "Set $I_k$ be the reward given at time $k$, for $k\\in\\{1,2,3,\\dots,n\\}$. We have \n",
    "$$I_k=\n",
    "\\begin{cases}\n",
    "1, &\\,\\,\\text{if $k$ resulted a Tail and $k-1$ resulted a Head}\\\\\n",
    "0, &\\,\\,\\text{otherwise}\n",
    "\\end{cases}$$\n",
    "We can rewrite $R$ as $R=I_1+I_2+\\dots+I_n$\n",
    "\n",
    "Since $I_k$ is a Bernoulli indicator variable and each toss is idependent, we have\n",
    "$$E[I_k]=E[I_1]=P(I_1=1)=P(\\text{a Tail at time $1$ and a Head at time $0$})=p(1-p)$$\n",
    "\n",
    "This gives us\n",
    "$$E[R]=E\\left[\\sum_{k=1}^{n}I_k\\right]=\\sum_{k=1}^{n}E[I_1]=nE[I_1]=np(1-p)$$\n",
    "\n",
    "To calculate $Var(R)$, we apply this formula $Var(R)=E[R^2]-(E[R])^2$.\n",
    "\n",
    "$$E[R^2]=E\\left[\\left(\\sum_{m=1}^{n}I_m\\right)\\left(\\sum_{l=1}^{n}I_m\\right)\\right]=\\sum_{m=1}^{n}\\sum_{l=1}^{n}E[I_mI_l]=\\sum_{m=1}^{n}E[I_m]+\\sum_{m,\\,l\\,:\\,m\\neq l}^{n}E[I_mI_l]$$\n",
    "\n",
    "There are total $n^2$ terms:\n",
    "\n",
    "1. when $m=l$, there are $n$ terms and $E[I_mI_l]=E[I^2_m]=E[I_m]=p(1-p)$\n",
    "2. when $m=k+1$ or $l=k+1$, we have $I_kI_{k+1}$ and this implies time $k$ results a Tail and time $k+1$ results a Tail as well which is impossible. So $E(I_kI_{k+1})=0$ and there are $2(n-1)$ terms.\n",
    "3. when $m=k+i$ or $l=k+i$ where $i\\geq 2$ and $k+i\\leq n$, this tells us time $k+i$ results a Tail and time $k+i-1$ results a Head. For example, time $k+2$ is a Tail while time $k+1$ is a Head. So\n",
    "$$E[I_kI_{k+i}]=P(I_k=1, I_{k+i}=1)=P(I_k=1)P(I_{k+i}=1\\,|\\,I_k=1)=p^2(1-p)^2$$ there are $n^2-n-2(n-1)$ terms if we combine case one and case two.\n",
    "\n",
    "Therefore,\n",
    "$$\\begin{aligned}\n",
    "Var(R)&=E[R^2]-(E[R])^2\\\\\n",
    "&=\\sum_{m=1}^{n}E[I_m]+\\sum_{m,\\,l\\,:\\,m\\neq l}^{n}E[I_mI_l] - (E[R])^2\\\\\n",
    "&=np(1-p) + 2(n-1)\\times0 + (n^2-n-2(n-1))p^2(1-p)^2-n^2p^2(1-p)^2\\\\\n",
    "&=np(1-p)-(3n-2)p^2(1-p)^2\n",
    "\\end{aligned}$$"
   ]
  },
  {
   "cell_type": "code",
   "execution_count": null,
   "metadata": {},
   "outputs": [],
   "source": []
  }
 ],
 "metadata": {
  "kernelspec": {
   "display_name": "Python 3",
   "language": "python",
   "name": "python3"
  },
  "language_info": {
   "codemirror_mode": {
    "name": "ipython",
    "version": 3
   },
   "file_extension": ".py",
   "mimetype": "text/x-python",
   "name": "python",
   "nbconvert_exporter": "python",
   "pygments_lexer": "ipython3",
   "version": "3.6.6"
  }
 },
 "nbformat": 4,
 "nbformat_minor": 1
}
