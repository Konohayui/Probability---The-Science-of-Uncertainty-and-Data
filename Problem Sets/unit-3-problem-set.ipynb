{
 "cells": [
  {
   "cell_type": "code",
   "execution_count": 1,
   "metadata": {
    "_cell_guid": "b1076dfc-b9ad-4769-8c92-a6c4dae69d19",
    "_uuid": "8f2839f25d086af736a60e9eeb907d3b93b6e0e5"
   },
   "outputs": [],
   "source": [
    "import pandas as pd, numpy as np, matplotlib.pyplot as plt, seaborn as sns\n",
    "import random as rn, math"
   ]
  },
  {
   "cell_type": "markdown",
   "metadata": {},
   "source": [
    "## Customers Arriving at a Restaurant\n",
    "#### Problem 1\n",
    "Six customers enter a three-floor restaurant. Each customer decides on which floor to have dinner. Assume that the decisions of different customers are independent, and that for each customer, each floor is equally likely. Find the probability that exactly one customer dines on the first floor.\n",
    "\n",
    "The probabilily that a customer chooses a floor for diner is $1/3$ because of independence."
   ]
  },
  {
   "cell_type": "code",
   "execution_count": 2,
   "metadata": {
    "_cell_guid": "79c7e3d0-c299-4dcb-8224-4455121ee9b0",
    "_uuid": "d629ff2d2480ee46fbb7e2d37f6b5fab8052498a"
   },
   "outputs": [
    {
     "name": "stdout",
     "output_type": "stream",
     "text": [
      "There are  729 ways for customers to have diners\n",
      "That equals to 3^6 729\n"
     ]
    }
   ],
   "source": [
    "floors = [\"1\", \"2\", \"3\"]\n",
    "ways = [\"\"]\n",
    "for _ in range(6):\n",
    "    ways = [way+floor for way in ways for floor in floors]\n",
    "    \n",
    "print(\"There are \", len(ways), \"ways for customers to have diners\")\n",
    "print(\"That equals to 3^6\", 3**6)"
   ]
  },
  {
   "cell_type": "code",
   "execution_count": 3,
   "metadata": {},
   "outputs": [
    {
     "data": {
      "text/plain": [
       "['600', '510', '501', '510', '420', '411', '501', '411', '402', '510']"
      ]
     },
     "execution_count": 3,
     "metadata": {},
     "output_type": "execute_result"
    }
   ],
   "source": [
    "Omega = []\n",
    "for way in ways:\n",
    "    Omega.append(str(way.count(\"1\"))+str(way.count(\"2\"))+str(way.count(\"3\")))\n",
    "\n",
    "Omega[:10]"
   ]
  },
  {
   "cell_type": "markdown",
   "metadata": {},
   "source": [
    "In the first $10$ cases, we can have all customers have diners on the first floor, or $5$ on the first floor and $1$ on the second floor, etc."
   ]
  },
  {
   "cell_type": "code",
   "execution_count": 4,
   "metadata": {},
   "outputs": [
    {
     "name": "stdout",
     "output_type": "stream",
     "text": [
      "There are  192 ways that exactly one customer dines on the first floor.\n",
      "The probability is  0.26337448559670784\n"
     ]
    }
   ],
   "source": [
    "count = 0\n",
    "for o in Omega:\n",
    "    if o[0] == \"1\":\n",
    "        count += 1\n",
    "        \n",
    "print(\"There are \", count, \"ways that exactly one customer dines on the first floor.\")\n",
    "print(\"The probability is \", count/3**6)"
   ]
  },
  {
   "cell_type": "markdown",
   "metadata": {},
   "source": [
    "Consider that each customer as an i.i.d Bernoulli trial, with success probability $1/3$, where a success corresponds to choose the first floor. \n",
    "$$P(\\text{Bin}(6,1/3)=1)={6\\choose 1}\\left(\\frac{1}{3}\\right)^1\\left(\\frac{2}{3}\\right)^5\\approx 0.26$$"
   ]
  },
  {
   "cell_type": "markdown",
   "metadata": {},
   "source": [
    "## A Three-Sided Die\n",
    "#### Probelm 2.1\n",
    "The newest invention of the 6.431x staff is a three-sided die. On any roll of this die, the result is $1$ with probability $1/2$, $2$ with probability $1/4$, and $3$ with probability $1/4$.\n",
    "\n",
    "Consider a sequence of six independent rolls of this die.\n",
    "\n",
    "Find the probability that exactly two of the rolls result in a $3$.\n",
    "\n",
    "Suppose that each roll as an i.i.d Bernouli trial, with success probability $1/4$, where a success corresponds to a roll results in a $3$.\n",
    "\n",
    "$$P(\\text{Bin}(6,1/4)=2)={6\\choose 2}\\left(\\frac{1}{4}\\right)^2\\left(\\frac{3}{4}\\right)^4$$"
   ]
  },
  {
   "cell_type": "markdown",
   "metadata": {},
   "source": [
    "#### Problem 2.2\n",
    "1. Given that exactly two of the six rolls resulted in a 1, find the probability that the first roll resulted in a 1. \n",
    "\n",
    "Set $A$ be the event exactly two of the rolls resulted in a 1, and $B$ be the event the first roll resulted in a 1. Since each roll is independent, we then have an i.i.d Bernouli trial with success probability $1/2$. \n",
    "$$P(B\\,|\\,A)=\\frac{{5 \\choose 1}}{{6 \\choose 2}}=\\frac{5}{{6 \\choose 2}}$$"
   ]
  },
  {
   "cell_type": "code",
   "execution_count": 5,
   "metadata": {},
   "outputs": [
    {
     "name": "stdout",
     "output_type": "stream",
     "text": [
      "['111111', '411111', '141111', '441111', '114111', '414111', '144111', '444111', '111411', '411411', '141411', '441411', '114411', '414411', '144411', '444411', '111141', '411141', '141141', '441141', '114141', '414141', '144141', '444141', '111441', '411441', '141441', '441441', '114441', '414441', '144441', '444441', '111114', '411114', '141114', '441114', '114114', '414114', '144114', '444114', '111414', '411414', '141414', '441414', '114414', '414414', '144414', '444414', '111144', '411144', '141144', '441144', '114144', '414144', '144144', '444144', '111444', '411444', '141444', '441444', '114444', '414444', '144444', '444444']\n"
     ]
    }
   ],
   "source": [
    "rolls = [\"1\", \"4\"] # 4 indicates as 2 or 3\n",
    "Omega2 = [\"\"]\n",
    "for _ in range(6):\n",
    "    Omega2 = [roll+o for o in Omega2 for roll in rolls]\n",
    "print(Omega2)"
   ]
  },
  {
   "cell_type": "markdown",
   "metadata": {},
   "source": [
    "2. We are told that exactly three of the rolls resulted in a 1 and exactly three rolls resulted in a 2. Given this information, find the probability that the six rolls resulted in the sequence  $(1,2,1,2,1,2)$ . \n",
    "\n",
    "There are ${6 \\choose 3}$ possible sequences with exactly three $1$s and three $2$s, and the probability of any particular one is $(1/2)^3(1/4)^4$. Thus,\n",
    "$$P((1,2,1,2,1,2)\\,|\\,\\text{exactly three $1$s and $2$s})=\\frac{P((1,2,1,2,1,2))}{P(\\text{exactly three $1$s and $2$s})}=\\frac{(1/2)^3(1/4)^4}{{6 \\choose 3}(1/2)^3(1/4)^4}=\\frac{1}{{6 \\choose 3}}$$"
   ]
  },
  {
   "cell_type": "code",
   "execution_count": null,
   "metadata": {},
   "outputs": [],
   "source": []
  },
  {
   "cell_type": "markdown",
   "metadata": {},
   "source": [
    "3. The conditional probability that exactly  $k$  rolls resulted in a $3$, given that at least one roll resulted in a $3$, is of the form:\n",
    "\n",
    "$$\\frac{1}{1-(c_1/c_2)^{c_3}}{c_3\\choose k}\\left(\\frac{1}{c_2}\\right)^k\\left(\\frac{c_1}{c_2}\\right)^{c_3-k}, \\,\\,\\,\\,\\text{for $k=1,2,\\dots,6$}$$\n",
    "\n",
    "Find the values of the constants  $c_1$, $c_2$ and $c_3$\n",
    "\n",
    "Set event $A$ be there is at least one roll resulted in a $3$, and $B$ be there are exactly $k$ rolls resulted in a $3$.\n",
    "\n",
    "$$\\begin{aligned}\n",
    "P(B\\,|\\,A)=&\\frac{P(A\\cap B)}{P(A)}\\\\\n",
    "=&\\frac{P(B)}{P(A)}\\\\\n",
    "=&\\frac{{6\\choose k}\\left(\\frac{1}{4}\\right)^{k}\\left(\\frac{3}{4}\\right)^{6-k}}{1-P(A^c)}\\\\\n",
    "=&\\frac{{6\\choose k}\\left(\\frac{1}{4}\\right)^{k}\\left(\\frac{3}{4}\\right)^{6-k}}{1-(3/4)^6}\n",
    "\\end{aligned}$$"
   ]
  },
  {
   "cell_type": "code",
   "execution_count": null,
   "metadata": {},
   "outputs": [],
   "source": []
  },
  {
   "cell_type": "markdown",
   "metadata": {},
   "source": [
    "## Forming a Committee\n",
    "#### Probelm 3\n",
    "Out of five men and five women, we form a committee consisting of four different people. Assuming that each committee of size four is equally likely, find the probabilities of the following events:\n",
    "1. The committee consists of two men and two women.\n",
    "2. The committee has more women than men.\n",
    "3. The committee has at least one man.\n",
    "For the remainder of the problem, assume that Alice and Bob are among the ten people being considered.\n",
    "\n",
    "4. Both Alice and Bob are members of the committee."
   ]
  },
  {
   "cell_type": "code",
   "execution_count": 6,
   "metadata": {},
   "outputs": [
    {
     "name": "stdout",
     "output_type": "stream",
     "text": [
      "Total ways  210\n",
      "equals to 10 choose 4 210\n"
     ]
    }
   ],
   "source": [
    "from itertools import combinations\n",
    "members = [\"M\", \"M\", \"M\", \"M\", \"M\", \"W\", \"W\", \"W\", \"W\", \"W\"]\n",
    "Omega3 = list(combinations(members, 4))\n",
    "print(\"Total ways \", len(Omega3))\n",
    "print(\"equals to 10 choose 4\", 210)"
   ]
  },
  {
   "cell_type": "code",
   "execution_count": 7,
   "metadata": {},
   "outputs": [
    {
     "data": {
      "text/plain": [
       "[('M', 'M', 'M', 'M'),\n",
       " ('M', 'M', 'M', 'M'),\n",
       " ('M', 'M', 'M', 'W'),\n",
       " ('M', 'M', 'M', 'W'),\n",
       " ('M', 'M', 'M', 'W'),\n",
       " ('M', 'M', 'M', 'W'),\n",
       " ('M', 'M', 'M', 'W'),\n",
       " ('M', 'M', 'M', 'M'),\n",
       " ('M', 'M', 'M', 'W'),\n",
       " ('M', 'M', 'M', 'W'),\n",
       " ('M', 'M', 'M', 'W'),\n",
       " ('M', 'M', 'M', 'W'),\n",
       " ('M', 'M', 'M', 'W'),\n",
       " ('M', 'M', 'M', 'W'),\n",
       " ('M', 'M', 'M', 'W'),\n",
       " ('M', 'M', 'M', 'W'),\n",
       " ('M', 'M', 'M', 'W'),\n",
       " ('M', 'M', 'M', 'W'),\n",
       " ('M', 'M', 'W', 'W'),\n",
       " ('M', 'M', 'W', 'W'),\n",
       " ('M', 'M', 'W', 'W'),\n",
       " ('M', 'M', 'W', 'W'),\n",
       " ('M', 'M', 'W', 'W'),\n",
       " ('M', 'M', 'W', 'W'),\n",
       " ('M', 'M', 'W', 'W'),\n",
       " ('M', 'M', 'W', 'W'),\n",
       " ('M', 'M', 'W', 'W'),\n",
       " ('M', 'M', 'W', 'W'),\n",
       " ('M', 'M', 'M', 'M'),\n",
       " ('M', 'M', 'M', 'W'),\n",
       " ('M', 'M', 'M', 'W'),\n",
       " ('M', 'M', 'M', 'W'),\n",
       " ('M', 'M', 'M', 'W'),\n",
       " ('M', 'M', 'M', 'W'),\n",
       " ('M', 'M', 'M', 'W'),\n",
       " ('M', 'M', 'M', 'W'),\n",
       " ('M', 'M', 'M', 'W'),\n",
       " ('M', 'M', 'M', 'W'),\n",
       " ('M', 'M', 'M', 'W'),\n",
       " ('M', 'M', 'W', 'W'),\n",
       " ('M', 'M', 'W', 'W'),\n",
       " ('M', 'M', 'W', 'W'),\n",
       " ('M', 'M', 'W', 'W'),\n",
       " ('M', 'M', 'W', 'W'),\n",
       " ('M', 'M', 'W', 'W'),\n",
       " ('M', 'M', 'W', 'W'),\n",
       " ('M', 'M', 'W', 'W'),\n",
       " ('M', 'M', 'W', 'W'),\n",
       " ('M', 'M', 'W', 'W'),\n",
       " ('M', 'M', 'M', 'W'),\n",
       " ('M', 'M', 'M', 'W'),\n",
       " ('M', 'M', 'M', 'W'),\n",
       " ('M', 'M', 'M', 'W'),\n",
       " ('M', 'M', 'M', 'W'),\n",
       " ('M', 'M', 'W', 'W'),\n",
       " ('M', 'M', 'W', 'W'),\n",
       " ('M', 'M', 'W', 'W'),\n",
       " ('M', 'M', 'W', 'W'),\n",
       " ('M', 'M', 'W', 'W'),\n",
       " ('M', 'M', 'W', 'W'),\n",
       " ('M', 'M', 'W', 'W'),\n",
       " ('M', 'M', 'W', 'W'),\n",
       " ('M', 'M', 'W', 'W'),\n",
       " ('M', 'M', 'W', 'W'),\n",
       " ('M', 'M', 'W', 'W'),\n",
       " ('M', 'M', 'W', 'W'),\n",
       " ('M', 'M', 'W', 'W'),\n",
       " ('M', 'M', 'W', 'W'),\n",
       " ('M', 'M', 'W', 'W'),\n",
       " ('M', 'M', 'W', 'W'),\n",
       " ('M', 'M', 'W', 'W'),\n",
       " ('M', 'M', 'W', 'W'),\n",
       " ('M', 'M', 'W', 'W'),\n",
       " ('M', 'M', 'W', 'W'),\n",
       " ('M', 'W', 'W', 'W'),\n",
       " ('M', 'W', 'W', 'W'),\n",
       " ('M', 'W', 'W', 'W'),\n",
       " ('M', 'W', 'W', 'W'),\n",
       " ('M', 'W', 'W', 'W'),\n",
       " ('M', 'W', 'W', 'W'),\n",
       " ('M', 'W', 'W', 'W'),\n",
       " ('M', 'W', 'W', 'W'),\n",
       " ('M', 'W', 'W', 'W'),\n",
       " ('M', 'W', 'W', 'W'),\n",
       " ('M', 'M', 'M', 'M'),\n",
       " ('M', 'M', 'M', 'W'),\n",
       " ('M', 'M', 'M', 'W'),\n",
       " ('M', 'M', 'M', 'W'),\n",
       " ('M', 'M', 'M', 'W'),\n",
       " ('M', 'M', 'M', 'W'),\n",
       " ('M', 'M', 'M', 'W'),\n",
       " ('M', 'M', 'M', 'W'),\n",
       " ('M', 'M', 'M', 'W'),\n",
       " ('M', 'M', 'M', 'W'),\n",
       " ('M', 'M', 'M', 'W'),\n",
       " ('M', 'M', 'W', 'W'),\n",
       " ('M', 'M', 'W', 'W'),\n",
       " ('M', 'M', 'W', 'W'),\n",
       " ('M', 'M', 'W', 'W'),\n",
       " ('M', 'M', 'W', 'W'),\n",
       " ('M', 'M', 'W', 'W'),\n",
       " ('M', 'M', 'W', 'W'),\n",
       " ('M', 'M', 'W', 'W'),\n",
       " ('M', 'M', 'W', 'W'),\n",
       " ('M', 'M', 'W', 'W'),\n",
       " ('M', 'M', 'M', 'W'),\n",
       " ('M', 'M', 'M', 'W'),\n",
       " ('M', 'M', 'M', 'W'),\n",
       " ('M', 'M', 'M', 'W'),\n",
       " ('M', 'M', 'M', 'W'),\n",
       " ('M', 'M', 'W', 'W'),\n",
       " ('M', 'M', 'W', 'W'),\n",
       " ('M', 'M', 'W', 'W'),\n",
       " ('M', 'M', 'W', 'W'),\n",
       " ('M', 'M', 'W', 'W'),\n",
       " ('M', 'M', 'W', 'W'),\n",
       " ('M', 'M', 'W', 'W'),\n",
       " ('M', 'M', 'W', 'W'),\n",
       " ('M', 'M', 'W', 'W'),\n",
       " ('M', 'M', 'W', 'W'),\n",
       " ('M', 'M', 'W', 'W'),\n",
       " ('M', 'M', 'W', 'W'),\n",
       " ('M', 'M', 'W', 'W'),\n",
       " ('M', 'M', 'W', 'W'),\n",
       " ('M', 'M', 'W', 'W'),\n",
       " ('M', 'M', 'W', 'W'),\n",
       " ('M', 'M', 'W', 'W'),\n",
       " ('M', 'M', 'W', 'W'),\n",
       " ('M', 'M', 'W', 'W'),\n",
       " ('M', 'M', 'W', 'W'),\n",
       " ('M', 'W', 'W', 'W'),\n",
       " ('M', 'W', 'W', 'W'),\n",
       " ('M', 'W', 'W', 'W'),\n",
       " ('M', 'W', 'W', 'W'),\n",
       " ('M', 'W', 'W', 'W'),\n",
       " ('M', 'W', 'W', 'W'),\n",
       " ('M', 'W', 'W', 'W'),\n",
       " ('M', 'W', 'W', 'W'),\n",
       " ('M', 'W', 'W', 'W'),\n",
       " ('M', 'W', 'W', 'W'),\n",
       " ('M', 'M', 'M', 'W'),\n",
       " ('M', 'M', 'M', 'W'),\n",
       " ('M', 'M', 'M', 'W'),\n",
       " ('M', 'M', 'M', 'W'),\n",
       " ('M', 'M', 'M', 'W'),\n",
       " ('M', 'M', 'W', 'W'),\n",
       " ('M', 'M', 'W', 'W'),\n",
       " ('M', 'M', 'W', 'W'),\n",
       " ('M', 'M', 'W', 'W'),\n",
       " ('M', 'M', 'W', 'W'),\n",
       " ('M', 'M', 'W', 'W'),\n",
       " ('M', 'M', 'W', 'W'),\n",
       " ('M', 'M', 'W', 'W'),\n",
       " ('M', 'M', 'W', 'W'),\n",
       " ('M', 'M', 'W', 'W'),\n",
       " ('M', 'M', 'W', 'W'),\n",
       " ('M', 'M', 'W', 'W'),\n",
       " ('M', 'M', 'W', 'W'),\n",
       " ('M', 'M', 'W', 'W'),\n",
       " ('M', 'M', 'W', 'W'),\n",
       " ('M', 'M', 'W', 'W'),\n",
       " ('M', 'M', 'W', 'W'),\n",
       " ('M', 'M', 'W', 'W'),\n",
       " ('M', 'M', 'W', 'W'),\n",
       " ('M', 'M', 'W', 'W'),\n",
       " ('M', 'W', 'W', 'W'),\n",
       " ('M', 'W', 'W', 'W'),\n",
       " ('M', 'W', 'W', 'W'),\n",
       " ('M', 'W', 'W', 'W'),\n",
       " ('M', 'W', 'W', 'W'),\n",
       " ('M', 'W', 'W', 'W'),\n",
       " ('M', 'W', 'W', 'W'),\n",
       " ('M', 'W', 'W', 'W'),\n",
       " ('M', 'W', 'W', 'W'),\n",
       " ('M', 'W', 'W', 'W'),\n",
       " ('M', 'M', 'W', 'W'),\n",
       " ('M', 'M', 'W', 'W'),\n",
       " ('M', 'M', 'W', 'W'),\n",
       " ('M', 'M', 'W', 'W'),\n",
       " ('M', 'M', 'W', 'W'),\n",
       " ('M', 'M', 'W', 'W'),\n",
       " ('M', 'M', 'W', 'W'),\n",
       " ('M', 'M', 'W', 'W'),\n",
       " ('M', 'M', 'W', 'W'),\n",
       " ('M', 'M', 'W', 'W'),\n",
       " ('M', 'W', 'W', 'W'),\n",
       " ('M', 'W', 'W', 'W'),\n",
       " ('M', 'W', 'W', 'W'),\n",
       " ('M', 'W', 'W', 'W'),\n",
       " ('M', 'W', 'W', 'W'),\n",
       " ('M', 'W', 'W', 'W'),\n",
       " ('M', 'W', 'W', 'W'),\n",
       " ('M', 'W', 'W', 'W'),\n",
       " ('M', 'W', 'W', 'W'),\n",
       " ('M', 'W', 'W', 'W'),\n",
       " ('M', 'W', 'W', 'W'),\n",
       " ('M', 'W', 'W', 'W'),\n",
       " ('M', 'W', 'W', 'W'),\n",
       " ('M', 'W', 'W', 'W'),\n",
       " ('M', 'W', 'W', 'W'),\n",
       " ('M', 'W', 'W', 'W'),\n",
       " ('M', 'W', 'W', 'W'),\n",
       " ('M', 'W', 'W', 'W'),\n",
       " ('M', 'W', 'W', 'W'),\n",
       " ('M', 'W', 'W', 'W'),\n",
       " ('W', 'W', 'W', 'W'),\n",
       " ('W', 'W', 'W', 'W'),\n",
       " ('W', 'W', 'W', 'W'),\n",
       " ('W', 'W', 'W', 'W'),\n",
       " ('W', 'W', 'W', 'W')]"
      ]
     },
     "execution_count": 7,
     "metadata": {},
     "output_type": "execute_result"
    }
   ],
   "source": [
    "Omega3"
   ]
  },
  {
   "cell_type": "markdown",
   "metadata": {},
   "source": [
    "1. The number of ways that we can choose 2 people out 5 is $w={5\\choose 2}$. So the number of ways that we can choose 2 men out of 5 and 2 women out of 5 is $w^2$. Thus\n",
    "$$\\frac{w^2}{210}$$\n",
    "\n",
    "2. There are two cases that the number of women in the committee is more than men is $3:1$ and $4:0$.\n",
    "$$\\frac{{5\\choose 3}\\times{5\\choose 1}+{5\\choose 4}{5\\choose 0}}{210}$$\n",
    "\n",
    "3. Set $A$ be the event that there is at least one man in the committee.\n",
    "$$\\frac{\\sum_{k=1}^4{5\\choose k}{5\\choose 4-k}}{210} = 1-P(\\text{the committee has all women}) = 1 - \\frac{{5\\choose 4}}{210}$$\n",
    "\n",
    "4. As Alice and Bob are in the committe, there are $2$ positions left for the remaining $8$ members.\n",
    "$$\\frac{{8\\choose 2}}{210}$$"
   ]
  },
  {
   "cell_type": "code",
   "execution_count": null,
   "metadata": {},
   "outputs": [],
   "source": []
  },
  {
   "cell_type": "markdown",
   "metadata": {},
   "source": [
    "## Hats in a Box\n",
    "#### Problem 5\n",
    "Each one of  $n$  persons, indexed by  $1,2,\\dots,n$ , has a clean hat and throws it into a box. The persons then pick hats from the box, at random. Every assignment of the hats to the persons is equally likely. In an equivalent model, each person picks a hat, one at a time, in the order of their index, with each one of the remaining hats being equally likely to be picked. Find the probability of the following events."
   ]
  },
  {
   "cell_type": "markdown",
   "metadata": {},
   "source": [
    "1. Every person gets his or her own hat back"
   ]
  },
  {
   "cell_type": "code",
   "execution_count": 8,
   "metadata": {},
   "outputs": [],
   "source": [
    "def helper(hats, sample_space, path, n):\n",
    "    if len(path) == n:\n",
    "        sample_space.append(path)\n",
    "        return\n",
    "    \n",
    "    for i, hat in enumerate(hats):\n",
    "        helper(hats[:i]+hats[i+1:], sample_space, path+[hat], n)\n",
    "        \n",
    "def hats_in_a_box(hats):\n",
    "    sample_space = []\n",
    "    helper(hats, sample_space, [], len(hats))\n",
    "    \n",
    "    return sample_space\n",
    "\n",
    "sample_space = hats_in_a_box([1,2,3,4,5])"
   ]
  },
  {
   "cell_type": "code",
   "execution_count": 9,
   "metadata": {},
   "outputs": [
    {
     "data": {
      "text/plain": [
       "[[1, 2, 3, 4, 5],\n",
       " [1, 2, 3, 5, 4],\n",
       " [1, 2, 4, 3, 5],\n",
       " [1, 2, 4, 5, 3],\n",
       " [1, 2, 5, 3, 4],\n",
       " [1, 2, 5, 4, 3],\n",
       " [1, 3, 2, 4, 5],\n",
       " [1, 3, 2, 5, 4],\n",
       " [1, 3, 4, 2, 5],\n",
       " [1, 3, 4, 5, 2],\n",
       " [1, 3, 5, 2, 4],\n",
       " [1, 3, 5, 4, 2],\n",
       " [1, 4, 2, 3, 5],\n",
       " [1, 4, 2, 5, 3],\n",
       " [1, 4, 3, 2, 5],\n",
       " [1, 4, 3, 5, 2],\n",
       " [1, 4, 5, 2, 3],\n",
       " [1, 4, 5, 3, 2],\n",
       " [1, 5, 2, 3, 4],\n",
       " [1, 5, 2, 4, 3],\n",
       " [1, 5, 3, 2, 4],\n",
       " [1, 5, 3, 4, 2],\n",
       " [1, 5, 4, 2, 3],\n",
       " [1, 5, 4, 3, 2],\n",
       " [2, 1, 3, 4, 5],\n",
       " [2, 1, 3, 5, 4],\n",
       " [2, 1, 4, 3, 5],\n",
       " [2, 1, 4, 5, 3],\n",
       " [2, 1, 5, 3, 4],\n",
       " [2, 1, 5, 4, 3],\n",
       " [2, 3, 1, 4, 5],\n",
       " [2, 3, 1, 5, 4],\n",
       " [2, 3, 4, 1, 5],\n",
       " [2, 3, 4, 5, 1],\n",
       " [2, 3, 5, 1, 4],\n",
       " [2, 3, 5, 4, 1],\n",
       " [2, 4, 1, 3, 5],\n",
       " [2, 4, 1, 5, 3],\n",
       " [2, 4, 3, 1, 5],\n",
       " [2, 4, 3, 5, 1],\n",
       " [2, 4, 5, 1, 3],\n",
       " [2, 4, 5, 3, 1],\n",
       " [2, 5, 1, 3, 4],\n",
       " [2, 5, 1, 4, 3],\n",
       " [2, 5, 3, 1, 4],\n",
       " [2, 5, 3, 4, 1],\n",
       " [2, 5, 4, 1, 3],\n",
       " [2, 5, 4, 3, 1],\n",
       " [3, 1, 2, 4, 5],\n",
       " [3, 1, 2, 5, 4],\n",
       " [3, 1, 4, 2, 5],\n",
       " [3, 1, 4, 5, 2],\n",
       " [3, 1, 5, 2, 4],\n",
       " [3, 1, 5, 4, 2],\n",
       " [3, 2, 1, 4, 5],\n",
       " [3, 2, 1, 5, 4],\n",
       " [3, 2, 4, 1, 5],\n",
       " [3, 2, 4, 5, 1],\n",
       " [3, 2, 5, 1, 4],\n",
       " [3, 2, 5, 4, 1],\n",
       " [3, 4, 1, 2, 5],\n",
       " [3, 4, 1, 5, 2],\n",
       " [3, 4, 2, 1, 5],\n",
       " [3, 4, 2, 5, 1],\n",
       " [3, 4, 5, 1, 2],\n",
       " [3, 4, 5, 2, 1],\n",
       " [3, 5, 1, 2, 4],\n",
       " [3, 5, 1, 4, 2],\n",
       " [3, 5, 2, 1, 4],\n",
       " [3, 5, 2, 4, 1],\n",
       " [3, 5, 4, 1, 2],\n",
       " [3, 5, 4, 2, 1],\n",
       " [4, 1, 2, 3, 5],\n",
       " [4, 1, 2, 5, 3],\n",
       " [4, 1, 3, 2, 5],\n",
       " [4, 1, 3, 5, 2],\n",
       " [4, 1, 5, 2, 3],\n",
       " [4, 1, 5, 3, 2],\n",
       " [4, 2, 1, 3, 5],\n",
       " [4, 2, 1, 5, 3],\n",
       " [4, 2, 3, 1, 5],\n",
       " [4, 2, 3, 5, 1],\n",
       " [4, 2, 5, 1, 3],\n",
       " [4, 2, 5, 3, 1],\n",
       " [4, 3, 1, 2, 5],\n",
       " [4, 3, 1, 5, 2],\n",
       " [4, 3, 2, 1, 5],\n",
       " [4, 3, 2, 5, 1],\n",
       " [4, 3, 5, 1, 2],\n",
       " [4, 3, 5, 2, 1],\n",
       " [4, 5, 1, 2, 3],\n",
       " [4, 5, 1, 3, 2],\n",
       " [4, 5, 2, 1, 3],\n",
       " [4, 5, 2, 3, 1],\n",
       " [4, 5, 3, 1, 2],\n",
       " [4, 5, 3, 2, 1],\n",
       " [5, 1, 2, 3, 4],\n",
       " [5, 1, 2, 4, 3],\n",
       " [5, 1, 3, 2, 4],\n",
       " [5, 1, 3, 4, 2],\n",
       " [5, 1, 4, 2, 3],\n",
       " [5, 1, 4, 3, 2],\n",
       " [5, 2, 1, 3, 4],\n",
       " [5, 2, 1, 4, 3],\n",
       " [5, 2, 3, 1, 4],\n",
       " [5, 2, 3, 4, 1],\n",
       " [5, 2, 4, 1, 3],\n",
       " [5, 2, 4, 3, 1],\n",
       " [5, 3, 1, 2, 4],\n",
       " [5, 3, 1, 4, 2],\n",
       " [5, 3, 2, 1, 4],\n",
       " [5, 3, 2, 4, 1],\n",
       " [5, 3, 4, 1, 2],\n",
       " [5, 3, 4, 2, 1],\n",
       " [5, 4, 1, 2, 3],\n",
       " [5, 4, 1, 3, 2],\n",
       " [5, 4, 2, 1, 3],\n",
       " [5, 4, 2, 3, 1],\n",
       " [5, 4, 3, 1, 2],\n",
       " [5, 4, 3, 2, 1]]"
      ]
     },
     "execution_count": 9,
     "metadata": {},
     "output_type": "execute_result"
    }
   ],
   "source": [
    "sample_space"
   ]
  },
  {
   "cell_type": "code",
   "execution_count": 10,
   "metadata": {},
   "outputs": [
    {
     "name": "stdout",
     "output_type": "stream",
     "text": [
      "There are  120 ways to order each hat to each person\n",
      "That equals to n!.\n"
     ]
    }
   ],
   "source": [
    "print(\"There are \", len(sample_space), \"ways to order each hat to each person\")\n",
    "print(\"That equals to n!.\")"
   ]
  },
  {
   "cell_type": "markdown",
   "metadata": {},
   "source": [
    "We observe that there is one way that everyone picks their own hat, so \n",
    "$$\\frac{1}{n!}$$"
   ]
  },
  {
   "cell_type": "markdown",
   "metadata": {},
   "source": [
    "2.  Each one of persons  $1,\\dots,m$  gets his or her own hat back, where  $1\\leq m\\leq n$ .\n",
    "\n",
    "Since the first $1,\\dots, m$ people pick their own hats, that are $\\prod_{k=1}^{m}{1\\choose 1}$ ways. For the remaining $n-m$ people, there are $(n-m)!$ ways to assign a hat to them. \n",
    "$$\\frac{(n-m)!}{n!}$$\n",
    "\n",
    "3. Each one of persons  $1,\\dots,m$  gets back a hat belonging to one of the last  $m$  persons (persons  $n−m+1,\\dots,n$ ), where  $1\\leq m\\leq n$ .\n",
    "\n",
    "There are $m!$ ways to assign these $m$ hats to the last $m$ people, and $(n-m)!$ ways to assign the remaining $n-m$ hats to the first $n-m$ people. \n",
    "$$\\frac{m!(n-m)!}{n!}=\\frac{1}{{n\\choose m}}$$"
   ]
  },
  {
   "cell_type": "markdown",
   "metadata": {},
   "source": [
    "Now assume, in addition, that every hat thrown into the box has probability  $p$  of getting dirty (independently of what happens to the other hats or who has dropped or picked it up). Find the probability that:\n",
    "\n",
    "4. Persons $1, \\dots, m$ will pick up clean hats."
   ]
  },
  {
   "cell_type": "code",
   "execution_count": 11,
   "metadata": {},
   "outputs": [
    {
     "name": "stdout",
     "output_type": "stream",
     "text": [
      "['11111', '11112', '11121', '11122', '11211', '11212', '11221', '11222', '12111', '12112', '12121', '12122', '12211', '12212', '12221', '12222', '21111', '21112', '21121', '21122', '21211', '21212', '21221', '21222', '22111', '22112', '22121', '22122', '22211', '22212', '22221', '22222']\n"
     ]
    }
   ],
   "source": [
    "m = 5\n",
    "hats = [\"1\", \"2\"] # 1 is clean, 2 is dirty\n",
    "sample_space = [\"\"]\n",
    "for _ in range(m):\n",
    "    sample_space = [sample+hat for sample in sample_space for hat in hats]\n",
    "    \n",
    "print(sample_space)"
   ]
  },
  {
   "cell_type": "markdown",
   "metadata": {},
   "source": [
    "The probability that a person picks a clean hat is $1-p$. Since each pick is independent, the probability that the $m$ specific people pick a clean hat is \n",
    "$$(1-p)^m$$"
   ]
  },
  {
   "cell_type": "markdown",
   "metadata": {},
   "source": [
    "5. Exactly  $m$  persons will pick up clean hats.\n",
    "\n",
    "Picking up a clean hat is an i.i.d Bernouli trial with success probability $1-p$. When there are $m$ successful cases out of $n$ trials, the probability is \n",
    "$${n\\choose m}\\left(1-p\\right)^m\\left(p\\right)^{n-m}$$"
   ]
  },
  {
   "cell_type": "code",
   "execution_count": null,
   "metadata": {},
   "outputs": [],
   "source": []
  }
 ],
 "metadata": {
  "kernelspec": {
   "display_name": "Python 3",
   "language": "python",
   "name": "python3"
  },
  "language_info": {
   "codemirror_mode": {
    "name": "ipython",
    "version": 3
   },
   "file_extension": ".py",
   "mimetype": "text/x-python",
   "name": "python",
   "nbconvert_exporter": "python",
   "pygments_lexer": "ipython3",
   "version": "3.6.6"
  }
 },
 "nbformat": 4,
 "nbformat_minor": 1
}
