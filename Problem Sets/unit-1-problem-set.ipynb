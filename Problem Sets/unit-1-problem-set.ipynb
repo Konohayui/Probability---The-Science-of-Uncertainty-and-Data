{
 "cells": [
  {
   "cell_type": "code",
   "execution_count": 1,
   "metadata": {},
   "outputs": [
    {
     "name": "stdout",
     "output_type": "stream",
     "text": [
      "Requirement already satisfied: matplotlib-venn in /opt/conda/lib/python3.6/site-packages (0.11.5)\r\n",
      "Requirement already satisfied: matplotlib in /opt/conda/lib/python3.6/site-packages (from matplotlib-venn) (3.1.0)\r\n",
      "Requirement already satisfied: numpy in /opt/conda/lib/python3.6/site-packages (from matplotlib-venn) (1.16.4)\r\n",
      "Requirement already satisfied: scipy in /opt/conda/lib/python3.6/site-packages (from matplotlib-venn) (1.3.0)\r\n",
      "Requirement already satisfied: python-dateutil>=2.1 in /opt/conda/lib/python3.6/site-packages (from matplotlib->matplotlib-venn) (2.8.0)\r\n",
      "Requirement already satisfied: kiwisolver>=1.0.1 in /opt/conda/lib/python3.6/site-packages (from matplotlib->matplotlib-venn) (1.1.0)\r\n",
      "Requirement already satisfied: pyparsing!=2.0.4,!=2.1.2,!=2.1.6,>=2.0.1 in /opt/conda/lib/python3.6/site-packages (from matplotlib->matplotlib-venn) (2.4.0)\r\n",
      "Requirement already satisfied: cycler>=0.10 in /opt/conda/lib/python3.6/site-packages (from matplotlib->matplotlib-venn) (0.10.0)\r\n",
      "Requirement already satisfied: six>=1.5 in /opt/conda/lib/python3.6/site-packages (from python-dateutil>=2.1->matplotlib->matplotlib-venn) (1.12.0)\r\n",
      "Requirement already satisfied: setuptools in /opt/conda/lib/python3.6/site-packages (from kiwisolver>=1.0.1->matplotlib->matplotlib-venn) (41.0.1)\r\n"
     ]
    }
   ],
   "source": [
    "!pip install matplotlib-venn"
   ]
  },
  {
   "cell_type": "code",
   "execution_count": 2,
   "metadata": {
    "_cell_guid": "b1076dfc-b9ad-4769-8c92-a6c4dae69d19",
    "_uuid": "8f2839f25d086af736a60e9eeb907d3b93b6e0e5"
   },
   "outputs": [],
   "source": [
    "import math, pandas as pd, random as rn, numpy as np\n",
    "import matplotlib.pyplot as plt, seaborn as sns\n",
    "from matplotlib_venn import *"
   ]
  },
  {
   "cell_type": "markdown",
   "metadata": {},
   "source": [
    "## Venn Diagrams\n",
    "#### Problem 1\n",
    "\n",
    "In this problem, you are given descriptions in words of certain events (e.g., \"at least one of the events  $A$, $B$, $C$ occurs\"). For each one of these descriptions, identify the correct symbolic description in terms of $A$, $B$, $C$ from Events E1-E7 below. Also identify the correct description in terms of regions (i.e., subsets of the sample space $\\Omega$) as depicted in the Venn diagram below. (For example, Region 1 is the part of  $A$  outside of  $B$  and  $C$.)"
   ]
  },
  {
   "cell_type": "code",
   "execution_count": 3,
   "metadata": {},
   "outputs": [
    {
     "data": {
      "image/png": "[encoded data removed]",
      "text/plain": [
       "<Figure size 432x288 with 1 Axes>"
      ]
     },
     "metadata": {},
     "output_type": "display_data"
    }
   ],
   "source": [
    "fig = plt.plot(figsize = (8, 8))\n",
    "venn3(subsets = (1, 3, 2, 7, 5, 6, 4), set_labels = (\"A\", \"B\", \"C\"))\n",
    "plt.text(0.5, -0.7, \"8\")\n",
    "plt.text(-0.6, 0.5, \"$\\Omega$\")\n",
    "plt.gca().set_axis_on()\n",
    "plt.show()"
   ]
  },
  {
   "cell_type": "markdown",
   "metadata": {},
   "source": [
    "1. At least two of the events $A$, $B$, $C$ occur\n",
    "$$(A\\cap B)\\cup(A\\cap C)\\cup(B\\cap C)= \\text{regions}\\,2, 4, 5, 6$$\n",
    "2. At most two of the events $A$, $B$, $C$ occur\n",
    "$$(A\\cap B \\cap C)^c = \\text{regions}\\, 1, 2, 3, 5, 6, 7, 8$$\n",
    "3. None of the events $A$, $B$, $C$ occur\n",
    "$$A^c\\cap B^c \\cap C^c = \\text{region}\\,8$$\n",
    "4. All three events $A$, $B$, $C$ occur\n",
    "$$A\\cap B \\cap C = \\text{regions}\\, 4$$\n",
    "5. Exactly one of the events $A$, $B$, $C$ occur\n",
    "$$(A\\cap B^c\\cap C^c)\\cup(A^c\\cap B \\cap C^c)\\cup(A^c\\cap B^c \\cap C) = \\text{regions}\\, 1, 3, 7$$\n",
    "6. Events $A$ and $B$ occur, but $C$ does not occur\n",
    "$$A\\cap B\\cap C^c= \\text{regions}\\, 2$$\n",
    "7. Either (i) event $B$ occurs, or (ii) neither $B$ or $C$ occurs\n",
    "$$B\\cup (B^c\\cap C^c) = \\text{regions}\\, 1, 2, 3, 4, 6, 8$$"
   ]
  },
  {
   "cell_type": "markdown",
   "metadata": {},
   "source": [
    "## Set Operations and Probabilities\n",
    "#### Problem 2\n",
    "Find the value of $P(A\\cap (B^c\\cup C^c)^c$ for each of the following cases:\n",
    "1. The events $A$, $B$, $C$ are disjoint events and $P(A)=2/5$\n",
    "$$P(A\\cup (B^c\\cup C^c)^c)=P(A)=2/5$$\n",
    "2. The events $A$ and $C$ are disjoint, and $P(A)=1/2$ and $P(B\\cap C)=1/4$\n",
    "$$P(A\\cup (B^c\\cup C^c)^c)=P(A\\cup(B\\cap C)) = P(A) + P(B\\cap C) = 1/2+1/4 = 3/4$$\n",
    "3. $P(A^c\\cap (B^c\\cup C^c) = 0.7$\n",
    "$$P(A\\cup (B^c\\cup C^c)^c)=1-P(A^c\\cap (B^c\\cup C^c)) = 0.3$$"
   ]
  },
  {
   "cell_type": "markdown",
   "metadata": {},
   "source": [
    "## Three Tosses of a Fair Coin\n",
    "#### Problem 3\n",
    "You flip a fair coin (i.e., the probability of obtaining Heads is  $1/2$ ) three times. Assume that all sequences of coin flip results, of length 3, are equally likely. Determine the probability of each of the following events. "
   ]
  },
  {
   "cell_type": "markdown",
   "metadata": {},
   "source": [
    "1. $\\{HHH\\}$: 3 Heads\n",
    "1/8 = 1/2^3\n",
    "2. $\\{HTH\\}$ the sequence Heads, Tails, Heads\n",
    "The probability of any specific sequence is 1/8\n",
    "3. Any sequence with $2$ Heads and $1$ Tails (in any order)\n",
    "Sequences $\\{HTH, HHT, THH\\}$, 3*(1/8)\n",
    "4. Any sequence in which the number of Heads is greater than or equal to the number of Tails\n",
    "Sequences $\\{HHH, HHT, HTH, THH\\}$, 4*(1/8)"
   ]
  },
  {
   "cell_type": "code",
   "execution_count": 4,
   "metadata": {},
   "outputs": [
    {
     "name": "stdout",
     "output_type": "stream",
     "text": [
      "['HHH', 'HHT', 'HTH', 'HTT', 'THH', 'THT', 'TTH', 'TTT']\n"
     ]
    }
   ],
   "source": [
    "coins = [\"H\", \"T\"]\n",
    "combinations = [\"\"]\n",
    "\n",
    "for _ in range(3):\n",
    "    combinations = [comb+coin for comb in combinations for coin in coins]\n",
    "print(combinations)"
   ]
  },
  {
   "cell_type": "markdown",
   "metadata": {},
   "source": [
    "## Parking Lot Problem\n",
    "#### Problem 4\n",
    "Mary and Tom park their cars in an empty parking lot with  $n≥2$  consecutive parking spaces (i.e,  n  spaces in a row, where only one car fits in each space). Mary and Tom pick parking spaces at random; of course, they must each choose a different space. (All pairs of distinct parking spaces are equally likely.) What is the probability that there is at most one empty parking space between them?"
   ]
  },
  {
   "cell_type": "markdown",
   "metadata": {},
   "source": [
    "Let i be Mary's parking lot, j be Tom's parking lot, sample sapce $\\Omega = \\{(i,\\, j): i\\neq j,\\, 1 <= i, j <=n \\}$\n",
    "\n",
    "Mary and Tom's distance is at most one, let $A = \\{(i, \\,j)\\in\\Omega: 1\\leq|i-j| \\leq 2\\}$"
   ]
  },
  {
   "cell_type": "code",
   "execution_count": 5,
   "metadata": {},
   "outputs": [],
   "source": [
    "def total_pairs(n):\n",
    "    pairs = []\n",
    "    for m in range(1, n+1):\n",
    "        for t in range(1, n+1):\n",
    "            if abs(m-t) == 1 or abs(m-t) == 2:\n",
    "                pairs += [(m ,t)]\n",
    "    \n",
    "    return pairs"
   ]
  },
  {
   "cell_type": "code",
   "execution_count": 6,
   "metadata": {},
   "outputs": [],
   "source": [
    "outcomes = {}\n",
    "for p in range(2, 13):\n",
    "    outcomes[p] = total_pairs(p)"
   ]
  },
  {
   "cell_type": "code",
   "execution_count": 7,
   "metadata": {},
   "outputs": [
    {
     "data": {
      "image/png": "[encoded data removed]",
      "text/plain": [
       "<Figure size 432x288 with 1 Axes>"
      ]
     },
     "metadata": {
      "needs_background": "light"
     },
     "output_type": "display_data"
    }
   ],
   "source": [
    "totals = []\n",
    "for p in range(2, 13):\n",
    "    if p in outcomes.keys():\n",
    "        totals += [len(outcomes[p])]\n",
    "\n",
    "plt.plot(outcomes.keys(), totals, \"o\")\n",
    "plt.show()"
   ]
  },
  {
   "cell_type": "code",
   "execution_count": 8,
   "metadata": {},
   "outputs": [
    {
     "name": "stderr",
     "output_type": "stream",
     "text": [
      "/opt/conda/lib/python3.6/site-packages/ipykernel_launcher.py:5: SettingWithCopyWarning: \n",
      "A value is trying to be set on a copy of a slice from a DataFrame\n",
      "\n",
      "See the caveats in the documentation: http://pandas.pydata.org/pandas-docs/stable/indexing.html#indexing-view-versus-copy\n",
      "  \"\"\"\n",
      "/opt/conda/lib/python3.6/site-packages/pandas/core/indexing.py:189: SettingWithCopyWarning: \n",
      "A value is trying to be set on a copy of a slice from a DataFrame\n",
      "\n",
      "See the caveats in the documentation: http://pandas.pydata.org/pandas-docs/stable/indexing.html#indexing-view-versus-copy\n",
      "  self._setitem_with_indexer(indexer, value)\n"
     ]
    }
   ],
   "source": [
    "n = 10\n",
    "table = pd.DataFrame(np.arange(n**2).reshape(n,n))\n",
    "for i in range(1, n):\n",
    "    for j in range(1, n):\n",
    "        table[i][j] = str(i)+\",\"+str(j)"
   ]
  },
  {
   "cell_type": "code",
   "execution_count": 9,
   "metadata": {},
   "outputs": [
    {
     "data": {
      "text/html": [
       "<div>\n",
       "<style scoped>\n",
       "    .dataframe tbody tr th:only-of-type {\n",
       "        vertical-align: middle;\n",
       "    }\n",
       "\n",
       "    .dataframe tbody tr th {\n",
       "        vertical-align: top;\n",
       "    }\n",
       "\n",
       "    .dataframe thead th {\n",
       "        text-align: right;\n",
       "    }\n",
       "</style>\n",
       "<table border=\"1\" class=\"dataframe\">\n",
       "  <thead>\n",
       "    <tr style=\"text-align: right;\">\n",
       "      <th></th>\n",
       "      <th>1</th>\n",
       "      <th>2</th>\n",
       "      <th>3</th>\n",
       "      <th>4</th>\n",
       "      <th>5</th>\n",
       "      <th>6</th>\n",
       "      <th>7</th>\n",
       "      <th>8</th>\n",
       "      <th>9</th>\n",
       "    </tr>\n",
       "  </thead>\n",
       "  <tbody>\n",
       "    <tr>\n",
       "      <th>1</th>\n",
       "      <td>1,1</td>\n",
       "      <td>2,1</td>\n",
       "      <td>3,1</td>\n",
       "      <td>4,1</td>\n",
       "      <td>5,1</td>\n",
       "      <td>6,1</td>\n",
       "      <td>7,1</td>\n",
       "      <td>8,1</td>\n",
       "      <td>9,1</td>\n",
       "    </tr>\n",
       "    <tr>\n",
       "      <th>2</th>\n",
       "      <td>1,2</td>\n",
       "      <td>2,2</td>\n",
       "      <td>3,2</td>\n",
       "      <td>4,2</td>\n",
       "      <td>5,2</td>\n",
       "      <td>6,2</td>\n",
       "      <td>7,2</td>\n",
       "      <td>8,2</td>\n",
       "      <td>9,2</td>\n",
       "    </tr>\n",
       "    <tr>\n",
       "      <th>3</th>\n",
       "      <td>1,3</td>\n",
       "      <td>2,3</td>\n",
       "      <td>3,3</td>\n",
       "      <td>4,3</td>\n",
       "      <td>5,3</td>\n",
       "      <td>6,3</td>\n",
       "      <td>7,3</td>\n",
       "      <td>8,3</td>\n",
       "      <td>9,3</td>\n",
       "    </tr>\n",
       "    <tr>\n",
       "      <th>4</th>\n",
       "      <td>1,4</td>\n",
       "      <td>2,4</td>\n",
       "      <td>3,4</td>\n",
       "      <td>4,4</td>\n",
       "      <td>5,4</td>\n",
       "      <td>6,4</td>\n",
       "      <td>7,4</td>\n",
       "      <td>8,4</td>\n",
       "      <td>9,4</td>\n",
       "    </tr>\n",
       "    <tr>\n",
       "      <th>5</th>\n",
       "      <td>1,5</td>\n",
       "      <td>2,5</td>\n",
       "      <td>3,5</td>\n",
       "      <td>4,5</td>\n",
       "      <td>5,5</td>\n",
       "      <td>6,5</td>\n",
       "      <td>7,5</td>\n",
       "      <td>8,5</td>\n",
       "      <td>9,5</td>\n",
       "    </tr>\n",
       "    <tr>\n",
       "      <th>6</th>\n",
       "      <td>1,6</td>\n",
       "      <td>2,6</td>\n",
       "      <td>3,6</td>\n",
       "      <td>4,6</td>\n",
       "      <td>5,6</td>\n",
       "      <td>6,6</td>\n",
       "      <td>7,6</td>\n",
       "      <td>8,6</td>\n",
       "      <td>9,6</td>\n",
       "    </tr>\n",
       "    <tr>\n",
       "      <th>7</th>\n",
       "      <td>1,7</td>\n",
       "      <td>2,7</td>\n",
       "      <td>3,7</td>\n",
       "      <td>4,7</td>\n",
       "      <td>5,7</td>\n",
       "      <td>6,7</td>\n",
       "      <td>7,7</td>\n",
       "      <td>8,7</td>\n",
       "      <td>9,7</td>\n",
       "    </tr>\n",
       "    <tr>\n",
       "      <th>8</th>\n",
       "      <td>1,8</td>\n",
       "      <td>2,8</td>\n",
       "      <td>3,8</td>\n",
       "      <td>4,8</td>\n",
       "      <td>5,8</td>\n",
       "      <td>6,8</td>\n",
       "      <td>7,8</td>\n",
       "      <td>8,8</td>\n",
       "      <td>9,8</td>\n",
       "    </tr>\n",
       "    <tr>\n",
       "      <th>9</th>\n",
       "      <td>1,9</td>\n",
       "      <td>2,9</td>\n",
       "      <td>3,9</td>\n",
       "      <td>4,9</td>\n",
       "      <td>5,9</td>\n",
       "      <td>6,9</td>\n",
       "      <td>7,9</td>\n",
       "      <td>8,9</td>\n",
       "      <td>9,9</td>\n",
       "    </tr>\n",
       "  </tbody>\n",
       "</table>\n",
       "</div>"
      ],
      "text/plain": [
       "     1    2    3    4    5    6    7    8    9\n",
       "1  1,1  2,1  3,1  4,1  5,1  6,1  7,1  8,1  9,1\n",
       "2  1,2  2,2  3,2  4,2  5,2  6,2  7,2  8,2  9,2\n",
       "3  1,3  2,3  3,3  4,3  5,3  6,3  7,3  8,3  9,3\n",
       "4  1,4  2,4  3,4  4,4  5,4  6,4  7,4  8,4  9,4\n",
       "5  1,5  2,5  3,5  4,5  5,5  6,5  7,5  8,5  9,5\n",
       "6  1,6  2,6  3,6  4,6  5,6  6,6  7,6  8,6  9,6\n",
       "7  1,7  2,7  3,7  4,7  5,7  6,7  7,7  8,7  9,7\n",
       "8  1,8  2,8  3,8  4,8  5,8  6,8  7,8  8,8  9,8\n",
       "9  1,9  2,9  3,9  4,9  5,9  6,9  7,9  8,9  9,9"
      ]
     },
     "execution_count": 9,
     "metadata": {},
     "output_type": "execute_result"
    }
   ],
   "source": [
    "table.loc[1:, 1:]"
   ]
  },
  {
   "cell_type": "markdown",
   "metadata": {},
   "source": [
    "There are $n^2$ total possible pairs of $i$ and $j$. Since $i\\neq j$, we need to eliminate those $n$ pairs on the diagonal, so the total number of pairs is $n^2-n$. When Mary and Tom are porked next to each other, we have $2(n-1)$ pairs where $|i-j| = 1$. When there is one parking lot between Mary and Tom, we have $2(n-2)$ pairs where $|i-j|=2$. Thus,\n",
    "\n",
    "$$\\frac{2(n-1)+2(n-2)}{n^2-n}=\\frac{4n-6}{n(n-1)}$$"
   ]
  },
  {
   "cell_type": "markdown",
   "metadata": {},
   "source": [
    "## Probabilities on a Continuous Sample Space\n",
    "#### Problem 5\n",
    "Alice and Bob each choose at random a real number between zero and one. We assume that the pair of numbers is chosen according to the uniform probability law on the unit square, so that the probability of an event is equal to its area.\n",
    "\n",
    "We define the following events:\n",
    "\n",
    " \t A = {The magnitude of the difference of the two numbers is greater than 1/3} \t \t \n",
    " \t B = {At least one of the numbers is greater than 1/4} \t \t \n",
    " \t C = {The sum of the two numbers is 1} \t \t \n",
    " \t D = {Alice's number is greater than 1/4}"
   ]
  },
  {
   "cell_type": "markdown",
   "metadata": {},
   "source": [
    "Set \n",
    "* $A = \\{(a, b)\\in(0, 1)\\times(0, 1),\\, |a-b|>1/3\\}$\n",
    "* $B = \\{(a, b)\\in(0, 1)\\times(0, 1),\\, a, b>1/4\\}$\n",
    "* $C = \\{(a, b)\\in(0, 1)\\times(0, 1),\\, a+b=1\\}$\n",
    "* $D = \\{(a, b)\\in(0, 1)\\times(0, 1),\\, a>1/4\\}$\n",
    "\n",
    "\n",
    "$P(A) = (2/3)^2$\n",
    "\n",
    "$P(B) = 1 - (1/4)^2$\n",
    "\n",
    "$P(A\\cap B) = P(A)$ since $A$ is a subset of $B$\n",
    "\n",
    "$P(C) = 0$\n",
    "\n",
    "$P(D)= 1-1/4*1$\n",
    "\n",
    "$P(A\\cap D) = 0.5*(2/3)^2 + 0.5*(5/12)^2$"
   ]
  },
  {
   "cell_type": "code",
   "execution_count": null,
   "metadata": {},
   "outputs": [],
   "source": []
  }
 ],
 "metadata": {
  "kernelspec": {
   "display_name": "Python 3",
   "language": "python",
   "name": "python3"
  },
  "language_info": {
   "codemirror_mode": {
    "name": "ipython",
    "version": 3
   },
   "file_extension": ".py",
   "mimetype": "text/x-python",
   "name": "python",
   "nbconvert_exporter": "python",
   "pygments_lexer": "ipython3",
   "version": "3.6.6"
  }
 },
 "nbformat": 4,
 "nbformat_minor": 1
}
